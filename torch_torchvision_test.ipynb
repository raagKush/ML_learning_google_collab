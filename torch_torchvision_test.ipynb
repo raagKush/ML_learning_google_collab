{
  "nbformat": 4,
  "nbformat_minor": 0,
  "metadata": {
    "colab": {
      "provenance": [],
      "gpuType": "T4",
      "authorship_tag": "ABX9TyMTxUJGWU9uBRfYR2eIx7C4",
      "include_colab_link": true
    },
    "kernelspec": {
      "name": "python3",
      "display_name": "Python 3"
    },
    "language_info": {
      "name": "python"
    },
    "accelerator": "GPU"
  },
  "cells": [
    {
      "cell_type": "markdown",
      "metadata": {
        "id": "view-in-github",
        "colab_type": "text"
      },
      "source": [
        "<a href=\"https://colab.research.google.com/github/raagKush/ML_learning_google_collab/blob/main/torch_torchvision_test.ipynb\" target=\"_parent\"><img src=\"https://colab.research.google.com/assets/colab-badge.svg\" alt=\"Open In Colab\"/></a>"
      ]
    },
    {
      "cell_type": "code",
      "execution_count": null,
      "metadata": {
        "colab": {
          "base_uri": "https://localhost:8080/"
        },
        "id": "YMVvDUmmQ1jp",
        "outputId": "ece35c77-1c2d-46ec-b384-ceb32092e8ad"
      },
      "outputs": [
        {
          "output_type": "stream",
          "name": "stdout",
          "text": [
            "Requirement already satisfied: torch in /usr/local/lib/python3.10/dist-packages (2.5.1+cu121)\n",
            "Requirement already satisfied: torchvision in /usr/local/lib/python3.10/dist-packages (0.20.1+cu121)\n",
            "Requirement already satisfied: filelock in /usr/local/lib/python3.10/dist-packages (from torch) (3.16.1)\n",
            "Requirement already satisfied: typing-extensions>=4.8.0 in /usr/local/lib/python3.10/dist-packages (from torch) (4.12.2)\n",
            "Requirement already satisfied: networkx in /usr/local/lib/python3.10/dist-packages (from torch) (3.4.2)\n",
            "Requirement already satisfied: jinja2 in /usr/local/lib/python3.10/dist-packages (from torch) (3.1.4)\n",
            "Requirement already satisfied: fsspec in /usr/local/lib/python3.10/dist-packages (from torch) (2024.10.0)\n",
            "Requirement already satisfied: sympy==1.13.1 in /usr/local/lib/python3.10/dist-packages (from torch) (1.13.1)\n",
            "Requirement already satisfied: mpmath<1.4,>=1.1.0 in /usr/local/lib/python3.10/dist-packages (from sympy==1.13.1->torch) (1.3.0)\n",
            "Requirement already satisfied: numpy in /usr/local/lib/python3.10/dist-packages (from torchvision) (1.26.4)\n",
            "Requirement already satisfied: pillow!=8.3.*,>=5.3.0 in /usr/local/lib/python3.10/dist-packages (from torchvision) (11.0.0)\n",
            "Requirement already satisfied: MarkupSafe>=2.0 in /usr/local/lib/python3.10/dist-packages (from jinja2->torch) (3.0.2)\n"
          ]
        }
      ],
      "source": [
        "!pip install torch torchvision"
      ]
    },
    {
      "cell_type": "code",
      "source": [
        "import torch\n",
        "tensor = torch.tensor([2,3,53,62,])\n",
        "print(tensor)"
      ],
      "metadata": {
        "colab": {
          "base_uri": "https://localhost:8080/"
        },
        "id": "Dc50wIhcRMWq",
        "outputId": "c6a4577b-cd33-4672-f138-e65823b1932a"
      },
      "execution_count": null,
      "outputs": [
        {
          "output_type": "stream",
          "name": "stdout",
          "text": [
            "tensor([ 2,  3, 53, 62])\n"
          ]
        }
      ]
    },
    {
      "cell_type": "code",
      "source": [
        "device = torch.device(\"cuda\" if torch.cuda.is_available() else \"cpu\")\n",
        "tensor_on_device = torch.rand((3,4)).to(device)\n",
        "print(tensor_on_device)"
      ],
      "metadata": {
        "colab": {
          "base_uri": "https://localhost:8080/"
        },
        "id": "0AA60Om5RdbI",
        "outputId": "f8b30536-3dd1-4a33-8015-83986eb05728"
      },
      "execution_count": null,
      "outputs": [
        {
          "output_type": "stream",
          "name": "stdout",
          "text": [
            "tensor([[0.4051, 0.4912, 0.7498, 0.0257],\n",
            "        [0.9055, 0.2969, 0.0425, 0.1939],\n",
            "        [0.9856, 0.5981, 0.9109, 0.0026]], device='cuda:0')\n"
          ]
        }
      ]
    },
    {
      "cell_type": "code",
      "source": [
        "tensor_a = torch.randn(2, 3)\n",
        "tensor_b = torch.randn(3, 2)\n",
        "result = torch.matmul(tensor_a, tensor_b)\n",
        "print(result)"
      ],
      "metadata": {
        "colab": {
          "base_uri": "https://localhost:8080/"
        },
        "id": "sbI02p9xSW3m",
        "outputId": "cd5a5fa6-4a11-4139-af79-29afe9402e45"
      },
      "execution_count": null,
      "outputs": [
        {
          "output_type": "stream",
          "name": "stdout",
          "text": [
            "tensor([[-0.2721, -0.3140],\n",
            "        [ 0.9543, -0.9644]])\n"
          ]
        }
      ]
    },
    {
      "cell_type": "code",
      "source": [
        "tensor_a = torch.randn(3, 3)\n",
        "tensor_b = torch.randn(3, 3)\n",
        "result = tensor_a*tensor_b\n",
        "print(tensor_a,tensor_b,result)"
      ],
      "metadata": {
        "colab": {
          "base_uri": "https://localhost:8080/"
        },
        "id": "dSYDI2ZBSjQn",
        "outputId": "fde0afbb-e31f-459d-f9be-1b4234effb87"
      },
      "execution_count": null,
      "outputs": [
        {
          "output_type": "stream",
          "name": "stdout",
          "text": [
            "tensor([[-1.6072, -0.1309,  0.3279],\n",
            "        [ 0.1446, -0.2797, -0.0430],\n",
            "        [ 0.9806,  0.2089,  0.0611]]) tensor([[-0.9341, -3.1530,  0.6879],\n",
            "        [-1.7407,  0.7094,  2.3871],\n",
            "        [ 0.0521, -2.0146, -0.1426]]) tensor([[ 1.5013,  0.4128,  0.2256],\n",
            "        [-0.2518, -0.1984, -0.1028],\n",
            "        [ 0.0511, -0.4209, -0.0087]])\n"
          ]
        }
      ]
    },
    {
      "cell_type": "code",
      "source": [
        "import time\n",
        "\n",
        "# Create a tensor on CPU\n",
        "tensor_a_cpu = torch.randn(10000, 10000)\n",
        "tensor_b_cpu = torch.randn(10000, 10000)\n",
        "\n",
        "# Measure time on CPU\n",
        "start = time.time()\n",
        "result_cpu = torch.matmul(tensor_a_cpu, tensor_b_cpu)\n",
        "time_CPU = time.time() - start\n",
        "print(f\"Time on CPU: {time_CPU} seconds\")\n",
        "\n",
        "# Move to GPU\n",
        "device = torch.device(\"cuda\" if torch.cuda.is_available() else \"cpu\")\n",
        "tensor_a_gpu = tensor_a_cpu.to(device)\n",
        "tensor_b_gpu = tensor_b_cpu.to(device)\n",
        "\n",
        "# Measure time on GPU\n",
        "start = time.time()\n",
        "result_gpu = torch.matmul(tensor_a_gpu, tensor_b_gpu)\n",
        "time_GPU = time.time() - start\n",
        "print(f\"Time on GPU: {time_GPU} seconds\")\n",
        "print(f\"GPU is {(time_CPU/time_GPU):.2f} times faster\" )\n"
      ],
      "metadata": {
        "colab": {
          "base_uri": "https://localhost:8080/"
        },
        "id": "5S5-HFh1Sqzy",
        "outputId": "b12cefc9-c87f-4c87-ca3c-83a3e4d3e62d"
      },
      "execution_count": 7,
      "outputs": [
        {
          "output_type": "stream",
          "name": "stdout",
          "text": [
            "Time on CPU: 24.508305549621582 seconds\n",
            "Time on GPU: 0.023717164993286133 seconds\n",
            "GPU is 1033.36 times faster\n"
          ]
        }
      ]
    },
    {
      "cell_type": "code",
      "source": [],
      "metadata": {
        "id": "z_8wfo4HwkZ7"
      },
      "execution_count": null,
      "outputs": []
    }
  ]
}