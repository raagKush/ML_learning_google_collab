{
  "nbformat": 4,
  "nbformat_minor": 0,
  "metadata": {
    "colab": {
      "provenance": [],
      "authorship_tag": "ABX9TyPE/Vxj5sFdxihwgVLWZ+5/",
      "include_colab_link": true
    },
    "kernelspec": {
      "name": "python3",
      "display_name": "Python 3"
    },
    "language_info": {
      "name": "python"
    }
  },
  "cells": [
    {
      "cell_type": "markdown",
      "metadata": {
        "id": "view-in-github",
        "colab_type": "text"
      },
      "source": [
        "<a href=\"https://colab.research.google.com/github/raagKush/ML_learning_google_collab/blob/main/summary.ipynb\" target=\"_parent\"><img src=\"https://colab.research.google.com/assets/colab-badge.svg\" alt=\"Open In Colab\"/></a>"
      ]
    },
    {
      "cell_type": "code",
      "execution_count": 32,
      "metadata": {
        "colab": {
          "base_uri": "https://localhost:8080/"
        },
        "id": "nhooyTru1dl-",
        "outputId": "63a2e5e5-c7e5-449f-8c1d-bb34dff7963f"
      },
      "outputs": [
        {
          "output_type": "stream",
          "name": "stderr",
          "text": [
            "[nltk_data] Downloading package stopwords to /root/nltk_data...\n",
            "[nltk_data]   Package stopwords is already up-to-date!\n",
            "[nltk_data] Downloading package punkt to /root/nltk_data...\n",
            "[nltk_data]   Package punkt is already up-to-date!\n"
          ]
        }
      ],
      "source": [
        "# importing libraries\n",
        "import nltk\n",
        "from nltk.corpus import stopwords\n",
        "from nltk.tokenize import word_tokenize, sent_tokenize\n",
        "nltk.download('stopwords')\n",
        "nltk.download('punkt')\n",
        "# Input text - to summarize\n",
        "text = \"\"\" Tiger is a very violent wild animal. It has been declared by the Indian government as the national animal of India. It is considered as the strongest, powerful and most beautiful animal on this planet. It lives in a dense forest however sometimes comes to the villages and other residential places in the search of food or deforestation. Siberian Tigers are generally used to live in cold places however Royal Bengal Tigers in the forest near river that’s why they know well to swim.\n",
        "\n",
        "Few decades ago, tigers were hunted by the people to a great extent for fulfilling various purposes including illegal business of its body parts like skin, bones, teeth, nail, etc. It resulted in the massive decrease in the population of tigers all over India. Tigers are also found in other countries like Bangladesh, Cambodia, Thailand, Laos, China, Indonesia, Myanmar, Nepal, Malaysia, Russia, Vietnam, Bhutan, etc.\n",
        "\n",
        "Tiger is a carnivorous animal which hunts in the night however sleeps for day. Tiger has a strong and powerful body using which it can jump up to the high length (almost 7 ft) and run up for long distance (almost 85 km/h). Black stripes on their blue, white or orange body make them really attractive and beautiful. It has naturally strong jaws, teeth and sharp claws in order to grasp its prey from long distance. It is considered as its long tail helps to maintain balance while hunting the prey. A tiger can be around 13 feet in length and 150 kg in weight. Tigers can be recognized by their unique pattern of stripes on the upper body.\n",
        "\n",
        "Tiger as a National Animal\n",
        "\n",
        "Tiger was selected as the National animal of India by the government because of its power, strength, and agility. It was selected as so also because of its nice names such as king of Jungle and Royal Bengal Tiger.\n",
        "\n",
        "What is Project Tiger\n",
        "\n",
        "Project Tiger is a campaign run by the government of India in order to maintain the population of tiger in country. It was established in 1973 in order to save tigers from the extreme threat of extinction. This project was made to focus on the preservation of remaining tigers all over the country as well as increase their number through the breeding of species. Around 23 tiger reserves have been made throughout the country for providing the safety and natural environment to them. It was seen a marked improvement in the tiger population by 1993 in the country. However despite the increase in population, the population of tigers in the country is still not satisfactory compared to the effort and money put in the project.\"\"\"\n",
        "\n",
        "# Tokenizing the text\n",
        "stopWords = set(stopwords.words(\"english\"))\n",
        "words = word_tokenize(text)\n",
        "\n",
        "# Creating a frequency table to keep the\n",
        "# score of each word\n",
        "\n",
        "freqTable = dict()\n",
        "for word in words:\n",
        "    word = word.lower()\n",
        "    if word in stopWords:\n",
        "        continue\n",
        "    if word in freqTable:\n",
        "        freqTable[word] += 1\n",
        "    else:\n",
        "        freqTable[word] = 1\n",
        "\n",
        "# Creating a dictionary to keep the score\n",
        "# of each sentence\n",
        "sentences = sent_tokenize(text)\n",
        "sentenceValue = dict()\n",
        "\n",
        "for sentence in sentences:\n",
        "    for word, freq in freqTable.items():\n",
        "        if word in sentence.lower():\n",
        "            if sentence in sentenceValue:\n",
        "                sentenceValue[sentence] += freq\n",
        "            else:\n",
        "                sentenceValue[sentence] = freq\n",
        "\n",
        "\n",
        "\n",
        "sumValues = 0\n",
        "for sentence in sentenceValue:\n",
        "    sumValues += sentenceValue[sentence]\n",
        "\n",
        "# Average value of a sentence from the original text\n",
        "\n",
        "average = int(sumValues / len(sentenceValue))\n",
        "\n",
        "# Storing sentences into our summary.\n",
        "summary = ''\n",
        "for sentence in sentences:\n",
        "    if (sentence in sentenceValue) and (sentenceValue[sentence] > (1.2 * average)):\n",
        "        summary += \" \" + sentence\n"
      ]
    },
    {
      "cell_type": "code",
      "source": [
        "print(summary)"
      ],
      "metadata": {
        "colab": {
          "base_uri": "https://localhost:8080/"
        },
        "id": "DMI-HHsY3KYP",
        "outputId": "d973a892-7bfa-4a77-bb2e-2d147e084f1d"
      },
      "execution_count": 33,
      "outputs": [
        {
          "output_type": "stream",
          "name": "stdout",
          "text": [
            " Few decades ago, tigers were hunted by the people to a great extent for fulfilling various purposes including illegal business of its body parts like skin, bones, teeth, nail, etc. Tigers are also found in other countries like Bangladesh, Cambodia, Thailand, Laos, China, Indonesia, Myanmar, Nepal, Malaysia, Russia, Vietnam, Bhutan, etc. Tiger as a National Animal\n",
            "\n",
            "Tiger was selected as the National animal of India by the government because of its power, strength, and agility. However despite the increase in population, the population of tigers in the country is still not satisfactory compared to the effort and money put in the project.\n"
          ]
        }
      ]
    }
  ]
}