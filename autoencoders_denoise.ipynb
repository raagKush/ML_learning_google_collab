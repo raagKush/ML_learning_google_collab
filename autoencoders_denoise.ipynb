{
  "nbformat": 4,
  "nbformat_minor": 0,
  "metadata": {
    "colab": {
      "provenance": [],
      "authorship_tag": "ABX9TyN4gdWj22AgLX3LFozXSUZp",
      "include_colab_link": true
    },
    "kernelspec": {
      "name": "python3",
      "display_name": "Python 3"
    },
    "language_info": {
      "name": "python"
    }
  },
  "cells": [
    {
      "cell_type": "markdown",
      "metadata": {
        "id": "view-in-github",
        "colab_type": "text"
      },
      "source": [
        "<a href=\"https://colab.research.google.com/github/raagKush/ML_learning_google_collab/blob/main/autoencoders_denoise.ipynb\" target=\"_parent\"><img src=\"https://colab.research.google.com/assets/colab-badge.svg\" alt=\"Open In Colab\"/></a>"
      ]
    },
    {
      "cell_type": "code",
      "execution_count": 2,
      "metadata": {
        "id": "kdDTScI81tfj"
      },
      "outputs": [],
      "source": [
        "import tensorflow as tf\n",
        "import numpy as np\n",
        "from matplotlib import pyplot as plt\n",
        "from tensorflow.keras.layers import Conv2D, MaxPooling2D, UpSampling2D\n",
        "\n",
        "NOISE = 0.5\n",
        "(x_train,_),(x_test,_)= tf.keras.datasets.mnist.load_data()\n",
        "\n",
        "x_train_norm = x_train/255.\n",
        "x_test_norm = x_test/255.\n",
        "\n",
        "x_train_norm_reshaped = x_train_norm.reshape(len(x_train_norm),28,28,1)\n",
        "x_test_norm_reshaped = x_test_norm.reshape(len(x_test_norm),28,28,1)\n",
        "\n",
        "x_train_noisy = x_train_norm + NOISE*np.random.normal(loc = 0.0, scale = 1.0, size = x_train.shape)\n",
        "x_test_noisy = x_test_norm + NOISE*np.random.normal(loc = 0.0, scale = 1.0, size = x_test.shape)\n",
        "\n",
        "x_train_clipped = np.clip(x_train_noisy,0.,1.)\n",
        "x_test_clipped = np.clip(x_test_noisy,0.,1.)\n",
        "\n",
        "plt.figure()\n",
        "plt.imshow(x_test_clipped[0])\n",
        "\n",
        "x_train_reshaped = x_train_clipped.reshape(len(x_train_clipped),28,28,1)\n",
        "x_test_reshaped = x_test_clipped.reshape(len(x_test_clipped),28,28,1)\n",
        "\n",
        "model = tf.keras.models.Sequential()\n",
        "\n",
        "model.add(Conv2D(32,(3,3), activation ='relu',input_shape=(28,28,1),padding='same'))\n",
        "model.add(MaxPooling2D((2,2),padding = 'same'))\n",
        "model.add(Conv2D(16,(3,3),activation= 'relu', padding = 'same'))\n",
        "model.add(MaxPooling2D((2,2),padding = 'same'))\n",
        "model.add(Conv2D(8,(3,3),activation = 'relu', padding = 'same'))\n",
        "model.add(MaxPooling2D((2,2),padding = 'same'))\n",
        "\n",
        "model.add(Conv2D(8,(3,3),activation='relu',padding = 'same'))\n",
        "model.add(UpSampling2D((2,2)))\n",
        "model.add(Conv2D(16,(3,3),activation='relu',padding = 'same'))\n",
        "model.add(UpSampling2D((2,2)))\n",
        "model.add(Conv2D(32,(3,3),activation='relu'))\n",
        "model.add(UpSampling2D((2,2)))\n",
        "model.add(Conv2D(1,(3,3),activation='relu',padding = 'same'))\n",
        "\n",
        "model.summary()\n",
        "\n",
        "model.compile(optimizer='adam',loss='mean_squared_error')\n",
        "\n",
        "model.fit(x_train_reshaped,x_train_norm_reshaped,batch_size=500,epochs=10,validation_split=0.1)\n",
        "\n",
        "preds = model.predict(x_test_reshaped)\n",
        "\n",
        "plt.figure()\n",
        "plt.imshow(x_test_reshaped[10]*255)\n",
        "\n",
        "plt.figure()\n",
        "plt.imshow(preds[10]*255)\n"
      ]
    }
  ]
}